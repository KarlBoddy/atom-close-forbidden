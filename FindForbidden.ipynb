{
 "cells": [
  {
   "cell_type": "code",
   "execution_count": 35,
   "metadata": {},
   "outputs": [],
   "source": [
    "%run GraphFamilies.ipynb\n",
    "from IPython.display import clear_output"
   ]
  },
  {
   "cell_type": "code",
   "execution_count": 32,
   "metadata": {},
   "outputs": [
    {
     "name": "stdout",
     "output_type": "stream",
     "text": [
      "115 graphs included for testing\n"
     ]
    }
   ],
   "source": [
    "# Get list of graphs from graph families\n",
    "\n",
    "#SETTINGS:\n",
    "# Higher settings will increase accuracy but result in slower runtime\n",
    "\n",
    "# Maximum size hole to include\n",
    "maxhole = 5\n",
    "\n",
    "# Maximum length path to include\n",
    "maxpath = 3\n",
    "\n",
    "# TRUE: Use connected graph families\n",
    "# FALSE: Use disconnected graph familise\n",
    "connected = True \n",
    "\n",
    "#############\n",
    "graph_family_list = AllFamilies(maxhole, maxpath, connected)\n",
    "print(f\"{len(graph_family_list)} graphs included for testing\")"
   ]
  },
  {
   "cell_type": "code",
   "execution_count": 36,
   "metadata": {},
   "outputs": [
    {
     "name": "stdout",
     "output_type": "stream",
     "text": [
      "Progress: Graph 114\n"
     ]
    }
   ],
   "source": [
    "# Build full table of all induced subgraphs in list of graphs in the following form:\n",
    "# Column 1: Graph\n",
    "# Column 2: Full list of induced subgraphs of this graph\n",
    "# Table is stored as a list of tuples\n",
    "\n",
    "def build_graph_table():\n",
    "    graph_table = []\n",
    "\n",
    "    # Iterate each graph\n",
    "    for G in graph_family_list:\n",
    "        clear_output(wait=True)\n",
    "        print(f\"Progress: Graph {graph_family_list.index(G)+1}\")\n",
    "        G_sg_list = []\n",
    "\n",
    "        # Iterate each induced subgraph of G\n",
    "        for vertex_subset in Subsets(G.vertices()):\n",
    "            current_sg = G.subgraph(vertex_subset)\n",
    "\n",
    "            add_flag = True\n",
    "            for H in G_sg_list:\n",
    "                if (current_sg.order() != H.order()) or (current_sg.size() != H.size()): #Different number of vertices/edges, no need to test isomorphism\n",
    "                    continue\n",
    "                elif H.is_isomorphic(current_sg):\n",
    "                    add_flag = False\n",
    "                    break \n",
    "            \n",
    "            if add_flag == True:\n",
    "                G_sg_list.append(current_sg)\n",
    "        \n",
    "        graph_table.append((G, G_sg_list))\n",
    "    \n",
    "    return graph_table\n",
    "\n",
    "graph_table = build_graph_table()\n"
   ]
  },
  {
   "cell_type": "code",
   "execution_count": 37,
   "metadata": {},
   "outputs": [],
   "source": [
    "# Find classification for single induced subgraph\n",
    "\n",
    "def find_forbidden_1():\n",
    "    forbidden_graphs = []\n",
    "\n",
    "    # Need only to test graphs know contained in graph with the least subgraphs\n",
    "    # Find this graph\n",
    "    best_no_subgraphs = 1000000\n",
    "    for i in graph_table:\n",
    "        current_no_subgraphs = len(i[1])\n",
    "        if current_no_subgraphs < best_no_subgraphs:\n",
    "            best_no_subgraphs = current_no_subgraphs\n",
    "            best_graph_row = i\n",
    "    \n",
    "    # Order list of subgraphs we need to test by most vertices first\n",
    "    test_sg_list = best_graph_row[1]\n",
    "    test_sg_list.sort(reverse = True, key=order)\n",
    "\n",
    "    # Check each \n",
    "    for test_sg in best_graph_row[1]:\n",
    "        add_flag = True\n",
    "\n",
    "        # First make sure subgraph isn't already contained in a graph already included (most vertices first means this test is simple)\n",
    "        for already_seen in forbidden_graphs:\n",
    "            if already_seen.subgraph_search(test_sg, induced=True) is not None:\n",
    "                add_flag = False\n",
    "                break\n",
    "        if add_flag == False: continue\n",
    "\n",
    "        # Look at each graph in each family\n",
    "        for current_graph in graph_table:\n",
    "            good_flag = False\n",
    "\n",
    "            # Check if the subgraph we're testing appears as a subgraph in this graph\n",
    "            for current_sg in current_graph[1]:\n",
    "                if (current_sg.order() != test_sg.order()) or (current_sg.size() != test_sg.size()): #Different number of vertices/edges, no need to test isomorphism\n",
    "                    continue\n",
    "                elif test_sg.is_isomorphic(current_sg):\n",
    "                    good_flag = True\n",
    "                    break\n",
    "            \n",
    "            # If not, stop testing this subgraph and don't include it\n",
    "            if good_flag == False:\n",
    "                add_flag = False\n",
    "                break\n",
    "        \n",
    "        # Include subgraph only if found as a subgraph in all graphs\n",
    "        if add_flag == True:\n",
    "            forbidden_graphs.append(test_sg)\n",
    "    \n",
    "    return(forbidden_graphs)\n",
    "\n",
    "\n",
    "forbidden_graphs_1 = find_forbidden_1()"
   ]
  },
  {
   "cell_type": "code",
   "execution_count": 38,
   "metadata": {},
   "outputs": [
    {
     "data": {
      "image/png": "[encoded data removed]",
      "text/plain": [
       "Graphics object consisting of 7 graphics primitives"
      ]
     },
     "metadata": {},
     "output_type": "display_data"
    },
    {
     "data": {
      "image/png": "[encoded data removed]",
      "text/plain": [
       "Graphics object consisting of 6 graphics primitives"
      ]
     },
     "metadata": {},
     "output_type": "display_data"
    }
   ],
   "source": [
    "for i in forbidden_graphs_1:\n",
    "    i.plot().show()"
   ]
  }
 ],
 "metadata": {
  "kernelspec": {
   "display_name": "SageMath 10.3",
   "language": "sage",
   "name": "sagemath"
  },
  "language_info": {
   "codemirror_mode": {
    "name": "ipython",
    "version": 3
   },
   "file_extension": ".py",
   "mimetype": "text/x-python",
   "name": "python",
   "nbconvert_exporter": "python",
   "pygments_lexer": "ipython3",
   "version": "3.12.4"
  }
 },
 "nbformat": 4,
 "nbformat_minor": 2
}
